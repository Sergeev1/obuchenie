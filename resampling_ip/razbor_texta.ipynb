{
 "cells": [
  {
   "cell_type": "code",
   "execution_count": 3,
   "metadata": {},
   "outputs": [
    {
     "name": "stdout",
     "output_type": "stream",
     "text": [
      "Collecting nltk\n",
      "  Downloading nltk-3.5.zip (1.4 MB)\n",
      "\u001b[K     |████████████████████████████████| 1.4 MB 1.3 MB/s eta 0:00:01\n",
      "\u001b[?25hCollecting click\n",
      "  Downloading click-7.1.2-py2.py3-none-any.whl (82 kB)\n",
      "\u001b[K     |████████████████████████████████| 82 kB 1.6 MB/s  eta 0:00:01\n",
      "\u001b[?25hCollecting joblib\n",
      "  Downloading joblib-0.16.0-py3-none-any.whl (300 kB)\n",
      "\u001b[K     |████████████████████████████████| 300 kB 9.7 MB/s eta 0:00:01\n",
      "\u001b[?25hCollecting regex\n",
      "  Downloading regex-2020.7.14-cp38-cp38-manylinux2010_x86_64.whl (672 kB)\n",
      "\u001b[K     |████████████████████████████████| 672 kB 10.1 MB/s eta 0:00:01\n",
      "\u001b[?25hCollecting tqdm\n",
      "  Downloading tqdm-4.48.2-py2.py3-none-any.whl (68 kB)\n",
      "\u001b[K     |████████████████████████████████| 68 kB 7.8 MB/s  eta 0:00:01\n",
      "\u001b[?25hBuilding wheels for collected packages: nltk\n",
      "  Building wheel for nltk (setup.py) ... \u001b[?25ldone\n",
      "\u001b[?25h  Created wheel for nltk: filename=nltk-3.5-py3-none-any.whl size=1434676 sha256=688b718c139207ba256f013985a576245a993e33b230f3b07dd45ffb894de5ab\n",
      "  Stored in directory: /home/bor/.cache/pip/wheels/ff/d5/7b/f1fb4e1e1603b2f01c2424dd60fbcc50c12ef918bafc44b155\n",
      "Successfully built nltk\n",
      "Installing collected packages: click, joblib, regex, tqdm, nltk\n",
      "\u001b[33m  WARNING: The script tqdm is installed in '/home/bor/.local/bin' which is not on PATH.\n",
      "  Consider adding this directory to PATH or, if you prefer to suppress this warning, use --no-warn-script-location.\u001b[0m\n",
      "\u001b[33m  WARNING: The script nltk is installed in '/home/bor/.local/bin' which is not on PATH.\n",
      "  Consider adding this directory to PATH or, if you prefer to suppress this warning, use --no-warn-script-location.\u001b[0m\n",
      "Successfully installed click-7.1.2 joblib-0.16.0 nltk-3.5 regex-2020.7.14 tqdm-4.48.2\n",
      "Collecting numpy\n",
      "  Downloading numpy-1.19.1-cp38-cp38-manylinux2010_x86_64.whl (14.5 MB)\n",
      "\u001b[K     |████████████████████████████████| 14.5 MB 6.9 MB/s eta 0:00:01\n",
      "\u001b[?25hInstalling collected packages: numpy\n",
      "\u001b[33m  WARNING: The scripts f2py, f2py3 and f2py3.8 are installed in '/home/bor/.local/bin' which is not on PATH.\n",
      "  Consider adding this directory to PATH or, if you prefer to suppress this warning, use --no-warn-script-location.\u001b[0m\n",
      "Successfully installed numpy-1.19.1\n"
     ]
    }
   ],
   "source": [
    "!pip3 install nltk\n",
    "!pip3 install numpy"
   ]
  },
  {
   "cell_type": "code",
   "execution_count": 29,
   "metadata": {},
   "outputs": [
    {
     "name": "stdout",
     "output_type": "stream",
     "text": [
      "Collecting pandas\n",
      "  Downloading pandas-1.1.1-cp38-cp38-manylinux1_x86_64.whl (10.4 MB)\n",
      "\u001b[K     |████████████████████████████████| 10.4 MB 8.6 MB/s eta 0:00:01\n",
      "\u001b[?25hRequirement already satisfied: numpy>=1.15.4 in /home/bor/.local/lib/python3.8/site-packages (from pandas) (1.19.1)\n",
      "Requirement already satisfied: pytz>=2017.2 in /usr/lib/python3/dist-packages (from pandas) (2019.3)\n",
      "Requirement already satisfied: python-dateutil>=2.7.3 in /usr/lib/python3/dist-packages (from pandas) (2.7.3)\n",
      "Installing collected packages: pandas\n",
      "Successfully installed pandas-1.1.1\n"
     ]
    }
   ],
   "source": [
    "!pip3 install pandas"
   ]
  },
  {
   "cell_type": "code",
   "execution_count": null,
   "metadata": {},
   "outputs": [],
   "source": [
    "!pip3 install matplotlib"
   ]
  },
  {
   "cell_type": "code",
   "execution_count": 4,
   "metadata": {},
   "outputs": [],
   "source": [
    "import nltk\n",
    "import numpy as np"
   ]
  },
  {
   "cell_type": "code",
   "execution_count": 5,
   "metadata": {},
   "outputs": [],
   "source": [
    "with open('./mail_in.txt', 'r') as f:  # считываем текстовый файл\n",
    "    inm = f.read()"
   ]
  },
  {
   "cell_type": "code",
   "execution_count": 6,
   "metadata": {},
   "outputs": [
    {
     "data": {
      "text/plain": [
       "'Сегодня\\nМосква, Россия (94.29.90.41) — текущее устройство\\nПроверка почты 15:13браузер Firefox (Linux)\\nВход в почту 15:13браузер Firefox (Linux)\\n16 июня 2020\\nМосква, Россия (94.232.137.20)\\nПроверка почты 23:24 - 23:32браузер Opera (Windows 7)\\n15 июня 2020\\nМосква, Россия (91.76.74.254)\\nПроверка почты 12:11браузер Yandex (Windows 7)\\n12 июня 2020\\nМосква, Россия (91.77.149.205)\\nПроверка почты 08:08браузер Yandex (Windows 7)\\nВход в почту 08:07браузер Yandex (Windows 7)\\n9 июня 2020\\nМосква, Россия (94.232.137.20)\\nПроверка почты 10:35 - 23:49браузер Opera (Windows 7)\\n6 писем перемещено из папки Входящие в папку Корзина 23:16браузер Opera (Windows 7)\\nВход в почту 10:33браузер Opera (Windows 7)\\nИзменен пароль 10:33браузер Opera (Windows 7)\\nВосстановлен пароль 10:33браузер Opera (Windows 7)\\n4 июня 2020\\nМосква, Россия (46.138.154.238)\\nПроверка почты 14:30браузер Yandex (Windows 7)\\nВход в почту 14:29браузер Yandex (Windows 7)\\nКурск, Курская область, Россия (94.25.166.144)\\nИзменен пароль 14:16браузер'"
      ]
     },
     "execution_count": 6,
     "metadata": {},
     "output_type": "execute_result"
    }
   ],
   "source": [
    "inm[:1000] #insert(&head, item);"
   ]
  },
  {
   "cell_type": "code",
   "execution_count": 7,
   "metadata": {},
   "outputs": [
    {
     "data": {
      "text/plain": [
       "['Сегодня',\n",
       " 'Москва, Россия (94.29.90.41) — текущее устройство',\n",
       " 'Проверка почты 15:13браузер Firefox (Linux)',\n",
       " 'Вход в почту 15:13браузер Firefox (Linux)',\n",
       " '16 июня 2020']"
      ]
     },
     "execution_count": 7,
     "metadata": {},
     "output_type": "execute_result"
    }
   ],
   "source": [
    "paragraphs = [sen for sen in inm.split('\\n') if sen]  # разбиваем на параграфы\n",
    "paragraphs[:5]"
   ]
  },
  {
   "cell_type": "code",
   "execution_count": 8,
   "metadata": {},
   "outputs": [
    {
     "data": {
      "text/plain": [
       "620"
      ]
     },
     "execution_count": 8,
     "metadata": {},
     "output_type": "execute_result"
    }
   ],
   "source": [
    "len(paragraphs)"
   ]
  },
  {
   "cell_type": "code",
   "execution_count": 9,
   "metadata": {},
   "outputs": [
    {
     "name": "stdout",
     "output_type": "stream",
     "text": [
      "[-1, -1, -1, -1, -1, -1, -1, -1, -1, -1, -1, -1, -1, -1, -1] \n",
      " [-1, -1, 0, -1, -1, -1, 0, -1, -1, 0, -1, -1, 0, -1, -1] \n",
      " 303\n"
     ]
    }
   ],
   "source": [
    "#Хочу\n",
    "stop1=\"IMAP\";#удалить строки с этим\n",
    "stop2=\"Проверка\";#удалить строки с этим \n",
    "metk = '?'#разделить слитые слова с этим\n",
    "\n",
    "\n",
    "ind_s1=[token.rfind(stop1) for token in paragraphs];#индекс по stop1\n",
    "a=len(paragraphs);\n",
    "[paragraphs.pop(a-i) for i in range(a) if ind_s1[-i]!=-1]#удаляю !функция pop с индексами строк работает в обратном порядке поскольку уменьшается длина массива\n",
    "\n",
    "\n",
    "ind_s2=[token.rfind(stop2) for token in paragraphs];\n",
    "a=len(paragraphs);\n",
    "[paragraphs.pop(a-i) for i in range(a) if ind_s2[-i]!=-1];#удаляю по stop2\n",
    "\n",
    "\n",
    "#paragraphs.pop(paragraphs.index(token));\n",
    "print(ind_s1[0:15],\"\\n\",ind_s2[0:15],\"\\n\",len(paragraphs))        "
   ]
  },
  {
   "cell_type": "code",
   "execution_count": 10,
   "metadata": {},
   "outputs": [
    {
     "data": {
      "text/plain": [
       "['Сегодня',\n",
       " 'Москва, Россия (94.29.90.41) — текущее устройство',\n",
       " 'Вход в почту 15:13браузер Firefox (Linux)',\n",
       " '16 июня 2020',\n",
       " 'Москва, Россия (94.232.137.20)',\n",
       " '15 июня 2020',\n",
       " 'Москва, Россия (91.76.74.254)',\n",
       " '12 июня 2020',\n",
       " 'Москва, Россия (91.77.149.205)',\n",
       " 'Вход в почту 08:07браузер Yandex (Windows 7)']"
      ]
     },
     "execution_count": 10,
     "metadata": {},
     "output_type": "execute_result"
    }
   ],
   "source": [
    "paragraphs[:10]"
   ]
  },
  {
   "cell_type": "code",
   "execution_count": 11,
   "metadata": {},
   "outputs": [],
   "source": [
    "import numpy as np"
   ]
  },
  {
   "cell_type": "markdown",
   "metadata": {
    "scrolled": false
   },
   "source": [
    "#Переведём список paragraphs в массив numpy/Этот пример для больших данных\n",
    "#m=np.array(paragraphs) #- проще и быстрее так\n",
    "from time import time\n",
    "from tempfile import TemporaryFile \n",
    " \n",
    "tic = time()\n",
    "\n",
    "outfile = TemporaryFile()\n",
    "np.save(outfile, paragraphs)\n",
    "\n",
    "outfile.seek(0)\n",
    "m=np.load(outfile)\n",
    "m.dtype\n",
    "\n",
    "toc = time()\n",
    "\n",
    "print(id(m),\" \",id(paragraphs),\" время преобразования:\", toc - tic)# m и paragraphs ссылаются на разный список\n",
    "\n"
   ]
  },
  {
   "cell_type": "code",
   "execution_count": 12,
   "metadata": {},
   "outputs": [
    {
     "name": "stdout",
     "output_type": "stream",
     "text": [
      "140171298037072   140170401298624  время преобразования: 0.0005550384521484375\n"
     ]
    }
   ],
   "source": [
    "from time import time\n",
    "\n",
    "tic = time()\n",
    "m=np.array(paragraphs) #- проще так\n",
    "\n",
    "toc = time()\n",
    "\n",
    "print(id(m),\" \",id(paragraphs),\" время преобразования:\", toc - tic)# m и paragraphs ссылаются на разный список\n"
   ]
  },
  {
   "cell_type": "code",
   "execution_count": 13,
   "metadata": {},
   "outputs": [
    {
     "data": {
      "text/plain": [
       "303"
      ]
     },
     "execution_count": 13,
     "metadata": {},
     "output_type": "execute_result"
    }
   ],
   "source": [
    "m.size # всего предложений в данных"
   ]
  },
  {
   "cell_type": "code",
   "execution_count": 14,
   "metadata": {},
   "outputs": [
    {
     "data": {
      "text/plain": [
       "158"
      ]
     },
     "execution_count": 14,
     "metadata": {},
     "output_type": "execute_result"
    }
   ],
   "source": [
    "#создадим массив с IP\n",
    "i_ip=[s.count(\".\")==3 for s in m];#логический индекс IP\n",
    "ip = [m[i_ip][i][m[i_ip][i].index('.')-3:m[i_ip][i].index('.')+13] for i in range(m[i_ip].size)]\n",
    "\n",
    "#{ip1: [i for i in st if (i!='.')&(i!=')')] for ip1,*st in ip}\n",
    "#удалим лишние символы\n",
    "snak=['(',')',' ']\n",
    "#ip=[ip.split('.') for ip in ip]\n",
    "ip = [[bukva for bukva in ipb if bukva not in snak] for ipb in ip]\n",
    "ip = [''.join(ip) for ip in ip]\n",
    "ip=np.array(ip)\n",
    "ip.size"
   ]
  },
  {
   "cell_type": "code",
   "execution_count": 15,
   "metadata": {},
   "outputs": [
    {
     "data": {
      "text/plain": [
       "array(['Сегодня', '16 июня 2020', '15 июня 2020'], dtype='<U98')"
      ]
     },
     "execution_count": 15,
     "metadata": {},
     "output_type": "execute_result"
    }
   ],
   "source": [
    "#Определим индекс дат\n",
    "i_d=[s.count('')<22 for s in m];#логический индекс дат\n",
    "\n",
    "#переведём из логического в числовой формат\n",
    "i=np.arange(m.shape[0])\n",
    "i_d=i[i_d] #индекс дат числовой\n",
    "m[i_d][:3]"
   ]
  },
  {
   "cell_type": "code",
   "execution_count": 16,
   "metadata": {},
   "outputs": [],
   "source": [
    "#Функция преобразования дат\n",
    "import datetime\n",
    "\n",
    "def mytime(m):\n",
    "    dm=[]\n",
    "    \n",
    "    def mytime1(d):\n",
    "        d=d.split(' ')\n",
    "        today = datetime.datetime.today()\n",
    "        yesterday=today+ datetime.timedelta(days=1)\n",
    "        #f=[today.year,today.month,today.day]\n",
    "        today=str(today).split(' ')[0]\n",
    "        yesterday=str(today).split(' ')[0]\n",
    "        inp=['января','февраля','марта','апреля','мая','июня','июля','августа','сентября','октября','ноября','декабря'];\n",
    "        ex=['01','02','03','04','05','06','07','08','09','10','11','12'];\n",
    "        if len(d)>2:\n",
    "            i=inp.index(d[1])\n",
    "            d[1]=ex[i]\n",
    "            d=d[::-1]\n",
    "            d=[d[0],d[1],d[2]]\n",
    "            d='-'.join(d)\n",
    "        elif d==['Сегодня']:\n",
    "            d=today     \n",
    "        elif d==['Вчера']:\n",
    "            d=yesterday               \n",
    "        else: \n",
    "            d=d\n",
    "        return d\n",
    "    for i in m:    \n",
    "        dm.append(mytime1(i)) \n",
    "    dm=np.array(dm);\n",
    "    return dm\n",
    "#m=mytime(m[i_d]), - m[i_d] - массив с датами входного списка\n",
    "#m"
   ]
  },
  {
   "cell_type": "code",
   "execution_count": 17,
   "metadata": {},
   "outputs": [
    {
     "name": "stdout",
     "output_type": "stream",
     "text": [
      "['2020-09-06' '2020-06-16' '2020-06-15' '2020-06-12' '2020-06-9'\n",
      " '2020-06-4' '2020-06-3' '2020-06-2' '2020-06-1' '2020-05-31' '2020-05-30'\n",
      " '2020-05-29' '2020-05-28' '2020-05-27' '2020-05-26' '2020-05-25'\n",
      " '2020-05-24' '2020-05-23' '2020-05-22' '2020-05-21' '2020-05-20'\n",
      " '2020-05-19' '2020-05-18' '2020-05-17' '2020-05-15' '2020-05-14'\n",
      " '2020-05-12' '2020-05-11' '2020-05-9' '2020-05-8' '2020-05-7' '2020-05-6'\n",
      " '2020-05-4' '2020-05-3' '2020-04-28' '2020-04-25' '2020-04-20'\n",
      " '2020-04-19' '2020-04-18' '2020-04-17' '2020-04-15' '2020-04-13'\n",
      " '2020-04-9' '2020-04-8' '2020-04-7' '2020-04-5' '2020-04-4' '2020-04-3'\n",
      " '2020-04-1' '2020-03-31' '2020-03-29' '2020-03-26' '2020-03-25'\n",
      " '2020-03-24' '2020-03-23' '2020-03-22' '2020-03-21' '2020-03-22'\n",
      " '2020-03-20' '2020-03-19' '2020-03-18' '2020-03-17' '2020-03-16'\n",
      " '2020-03-15' '2020-03-14' '2020-03-13' '2020-03-12' '2020-03-10'\n",
      " '2020-03-9' '2020-03-8' '2020-03-6' '2020-03-5' '2020-03-4']\n"
     ]
    }
   ],
   "source": [
    "m[i_d]=mytime(m[i_d])\n",
    "print(m[i_d])"
   ]
  },
  {
   "cell_type": "code",
   "execution_count": 18,
   "metadata": {
    "scrolled": false
   },
   "outputs": [
    {
     "data": {
      "text/plain": [
       "303"
      ]
     },
     "execution_count": 18,
     "metadata": {},
     "output_type": "execute_result"
    }
   ],
   "source": [
    "#создадим массив с датами\n",
    "#t=np.zeros(m.shape[0])\n",
    "#ta=[[m[ind] for i in range(len(m)-ind)] for ind in i_d]\n",
    "t=[]\n",
    "j=0;\n",
    "    \n",
    "for i in range(len(i_d)-1):#заполняем до последней даты\n",
    "    while j<i_d[i+1]:\n",
    "        t.append(m[i_d[i]])        \n",
    "        j=j+1\n",
    "        \n",
    "[t.append(m[i_d[-1]]) for i in range(len(m)-i_d[-1])]    #заполняем после последней даты  \n",
    "#преобразуем в объект numpy\n",
    "t=np.array(t);\n",
    "#[print(m[i],\"\\t\",t[i]) for i in range(m.size)]\n",
    "t.size"
   ]
  },
  {
   "cell_type": "code",
   "execution_count": 22,
   "metadata": {},
   "outputs": [],
   "source": [
    "def munique(ip):\n",
    "    #напишем функцию перебора списка\n",
    "    k=ip.size\n",
    "\n",
    "    n=np.zeros([k], dtype='int')# - число вхождений элементов\n",
    "    n_u1=[]# - индекс уникального элемента по последнему вхождению в список\n",
    "    n_u2=[]# - индекс уникального элемента по последнему вхождению в список\n",
    "\n",
    "    for i in range(k):\n",
    "        l=(ip[i+1:]==ip[i])\n",
    "        l2=(ip==ip[i])\n",
    "        l1=(ip[i+1:]==ip[i])*1  \n",
    "        n[i+1:]=n[i+1:]+l1\n",
    "\n",
    "        if n[i]==0:\n",
    "            n_u1.append(i) #первое вхождение        \n",
    "            if np.sum(np.where(l==True))!=0:\n",
    "                n_u2.append(np.max(np.where(l2==1))) #последнее вхождение\n",
    "            else: \n",
    "                n_u2.append(i)\n",
    "\n",
    "    n=[sum(ip==ip[i]) for i in range(k)]#число вхождений\n",
    "    n=np.array(n, dtype='int')\n",
    "    n_u1=np.array(n_u1, dtype='int')\n",
    "    n_u2=np.array(n_u2, dtype='int')\n",
    "    n=n[n_u1]\n",
    "    \n",
    "    return n,n_u1,n_u2\n",
    "\n",
    "#s=munique(ip)\n",
    "#s[1]-индекс первого уникального элемента, \n",
    "#s[2]-индекс последнего вхождения уникального элемента\n",
    "#s[0] - количество вхождений уникальных элементов"
   ]
  },
  {
   "cell_type": "code",
   "execution_count": 19,
   "metadata": {},
   "outputs": [
    {
     "data": {
      "text/plain": [
       "303"
      ]
     },
     "execution_count": 19,
     "metadata": {},
     "output_type": "execute_result"
    }
   ],
   "source": [
    "m.size\n"
   ]
  },
  {
   "cell_type": "code",
   "execution_count": 23,
   "metadata": {},
   "outputs": [
    {
     "name": "stdout",
     "output_type": "stream",
     "text": [
      "['94.29.90.41—' '94.232.137.20' '91.76.74.254' '91.77.149.205'\n",
      " '46.138.154.238' '94.25.166.144' '95.108.244.149' '213.87.136.226'\n",
      " '46.138.158.98' '213.87.144.69' '91.77.55.12' '79.139.215.51'\n",
      " '213.87.159.239' '46.138.135.229' '79.139.213.86' '213.87.160.250'\n",
      " '46.138.144.164' '77.88.29.97' '91.78.229.83' '77.88.29.4' '77.88.29.2'\n",
      " '213.87.160.238' '46.138.171.42' '79.139.223.118' '213.87.150.132'\n",
      " '213.87.138.223' '213.87.138.129' '37.230.157.29' '46.138.139.219'\n",
      " '46.138.174.141' '79.139.214.180' '213.87.139.157' '213.87.145.142'\n",
      " '46.138.148.82' '213.87.147.64' '213.87.146.50' '213.87.157.187'\n",
      " '213.87.130.15' '213.87.150.99' '213.87.138.33' '46.138.157.202'\n",
      " '91.76.78.193' '91.76.116.111' '213.87.161.242' '46.138.146.207'\n",
      " '213.87.131.219' '213.87.135.205' '213.87.131.28' '213.87.135.180'\n",
      " '213.87.139.35' '213.87.155.9' '213.87.144.222' '213.87.135.121'\n",
      " '213.87.148.222' '213.87.160.143' '213.87.130.45' '213.87.161.1'\n",
      " '213.87.149.177' '213.87.146.3' '213.87.146.87' '213.87.159.222'\n",
      " '213.87.152.97' '213.87.135.157' '213.87.161.229' '213.87.148.75'\n",
      " '213.87.138.231' '213.87.138.134' '213.87.153.132' '213.87.162.56'\n",
      " '213.87.162.221' '213.87.146.70' '37.230.157.22' '213.87.157.179'] время нахождения уникальных элементов: 0.06130552291870117\n"
     ]
    }
   ],
   "source": [
    "tic = time()\n",
    "\n",
    "s=munique(ip)\n",
    "\n",
    "toc = time()\n",
    "\n",
    "print(ip[s[1]],\"время нахождения уникальных элементов:\", toc - tic)"
   ]
  },
  {
   "cell_type": "code",
   "execution_count": 30,
   "metadata": {},
   "outputs": [
    {
     "name": "stderr",
     "output_type": "stream",
     "text": [
      "<ipython-input-30-dc279b52878f>:7: VisibleDeprecationWarning: Creating an ndarray from ragged nested sequences (which is a list-or-tuple of lists-or-tuples-or ndarrays with different lengths or shapes) is deprecated. If you meant to do this, you must specify 'dtype=object' when creating the ndarray\n",
      "  g1=np.array(g1)\n"
     ]
    }
   ],
   "source": [
    "#Таблица IP: даты входа\n",
    "k=ip.size\n",
    "g= { ip[i]: [t[np.where((ip==ip[i])==True)]] for i in range(k)}\n",
    "\n",
    "#Массив дат входа по индексу IP\n",
    "g1= [t[np.where((ip==ip[i])==True)] for i in range(k)] #даты входа c IP\n",
    "g1=np.array(g1)"
   ]
  },
  {
   "cell_type": "code",
   "execution_count": 31,
   "metadata": {},
   "outputs": [
    {
     "data": {
      "text/plain": [
       "array(['Москва, Россия (94.29.90.41) — текущее устройство',\n",
       "       'Москва, Россия (94.232.137.20)', 'Москва, Россия (91.76.74.254)'],\n",
       "      dtype='<U98')"
      ]
     },
     "execution_count": 31,
     "metadata": {},
     "output_type": "execute_result"
    }
   ],
   "source": [
    "#Переведём индекс уникальных элементов в индекс выборки\n",
    "i=np.arange(m.shape[0])\n",
    "a_i=i[i_ip] #индекс IP числовой\n",
    "m[a_i][s[1]]#.nonzero()\n",
    "i_s=a_i[s[1]]# - индекс уникальных IP в исходном массиве\n",
    "m[i_s][:3]"
   ]
  },
  {
   "cell_type": "code",
   "execution_count": 32,
   "metadata": {},
   "outputs": [
    {
     "data": {
      "text/plain": [
       "array(['2020-09-06', '2020-06-16', '2020-06-15', '2020-06-12',\n",
       "       '2020-06-4', '2020-06-4', '2020-06-4', '2020-06-4', '2020-06-3',\n",
       "       '2020-06-3', '2020-06-2', '2020-05-27', '2020-05-27', '2020-05-26',\n",
       "       '2020-05-23', '2020-05-21', '2020-05-19', '2020-05-18',\n",
       "       '2020-05-18', '2020-05-18', '2020-05-18', '2020-05-18',\n",
       "       '2020-05-17', '2020-05-15', '2020-05-15', '2020-05-14',\n",
       "       '2020-05-12', '2020-05-11', '2020-05-9', '2020-05-7', '2020-05-7',\n",
       "       '2020-05-6', '2020-05-4', '2020-05-3', '2020-04-28', '2020-04-25',\n",
       "       '2020-04-25', '2020-04-25', '2020-04-20', '2020-04-18',\n",
       "       '2020-04-13', '2020-04-9', '2020-04-8', '2020-04-8', '2020-04-7',\n",
       "       '2020-04-4', '2020-04-1', '2020-03-31', '2020-03-29', '2020-03-26',\n",
       "       '2020-03-26', '2020-03-26', '2020-03-25', '2020-03-25',\n",
       "       '2020-03-24', '2020-03-24', '2020-03-24', '2020-03-24',\n",
       "       '2020-03-23', '2020-03-19', '2020-03-18', '2020-03-18',\n",
       "       '2020-03-17', '2020-03-16', '2020-03-15', '2020-03-14',\n",
       "       '2020-03-14', '2020-03-13', '2020-03-12', '2020-03-10',\n",
       "       '2020-03-6', '2020-03-5', '2020-03-5'], dtype='<U10')"
      ]
     },
     "execution_count": 32,
     "metadata": {},
     "output_type": "execute_result"
    }
   ],
   "source": [
    "#Найдём вхождения в даты уникальных IP\n",
    "t[i_s]"
   ]
  },
  {
   "cell_type": "code",
   "execution_count": 33,
   "metadata": {},
   "outputs": [],
   "source": [
    "#Создание таблицы https://smysl.io/blog/pandas/\n",
    "\n",
    "tab = {\n",
    "    'IP': ip[s[1]],\n",
    "    'колличество': s[0],\n",
    "    'последний': t[s[1]],\n",
    "    'первый': t[s[2]],\n",
    "    'meta':     m[i_s],\n",
    "    'meta_d': g1[s[1]]\n",
    "    \n",
    "}"
   ]
  },
  {
   "cell_type": "code",
   "execution_count": 34,
   "metadata": {},
   "outputs": [],
   "source": [
    "import pandas as pd\n",
    "dat = pd.DataFrame(data=tab)"
   ]
  },
  {
   "cell_type": "code",
   "execution_count": 35,
   "metadata": {},
   "outputs": [],
   "source": [
    "dat.to_csv('анализ.csv')\n",
    "dat = pd.read_csv('анализ.csv', index_col='последний', parse_dates=True)"
   ]
  },
  {
   "cell_type": "code",
   "execution_count": 36,
   "metadata": {},
   "outputs": [
    {
     "data": {
      "text/html": [
       "<div>\n",
       "<style scoped>\n",
       "    .dataframe tbody tr th:only-of-type {\n",
       "        vertical-align: middle;\n",
       "    }\n",
       "\n",
       "    .dataframe tbody tr th {\n",
       "        vertical-align: top;\n",
       "    }\n",
       "\n",
       "    .dataframe thead th {\n",
       "        text-align: right;\n",
       "    }\n",
       "</style>\n",
       "<table border=\"1\" class=\"dataframe\">\n",
       "  <thead>\n",
       "    <tr style=\"text-align: right;\">\n",
       "      <th></th>\n",
       "      <th>Unnamed: 0</th>\n",
       "      <th>IP</th>\n",
       "      <th>колличество</th>\n",
       "      <th>первый</th>\n",
       "      <th>meta</th>\n",
       "      <th>meta_d</th>\n",
       "    </tr>\n",
       "    <tr>\n",
       "      <th>последний</th>\n",
       "      <th></th>\n",
       "      <th></th>\n",
       "      <th></th>\n",
       "      <th></th>\n",
       "      <th></th>\n",
       "      <th></th>\n",
       "    </tr>\n",
       "  </thead>\n",
       "  <tbody>\n",
       "    <tr>\n",
       "      <th>2020-04-19</th>\n",
       "      <td>72</td>\n",
       "      <td>213.87.157.179</td>\n",
       "      <td>1</td>\n",
       "      <td>2020-04-19</td>\n",
       "      <td>Москва, Россия (213.87.157.179)</td>\n",
       "      <td>['2020-04-19']</td>\n",
       "    </tr>\n",
       "    <tr>\n",
       "      <th>2020-04-19</th>\n",
       "      <td>71</td>\n",
       "      <td>37.230.157.22</td>\n",
       "      <td>1</td>\n",
       "      <td>2020-04-19</td>\n",
       "      <td>Москва, Россия (37.230.157.22)</td>\n",
       "      <td>['2020-04-19']</td>\n",
       "    </tr>\n",
       "    <tr>\n",
       "      <th>2020-04-20</th>\n",
       "      <td>70</td>\n",
       "      <td>213.87.146.70</td>\n",
       "      <td>1</td>\n",
       "      <td>2020-04-20</td>\n",
       "      <td>Москва, Россия (213.87.146.70)</td>\n",
       "      <td>['2020-04-20']</td>\n",
       "    </tr>\n",
       "    <tr>\n",
       "      <th>2020-04-25</th>\n",
       "      <td>69</td>\n",
       "      <td>213.87.162.221</td>\n",
       "      <td>1</td>\n",
       "      <td>2020-04-25</td>\n",
       "      <td>Москва, Россия (213.87.162.221)</td>\n",
       "      <td>['2020-04-25']</td>\n",
       "    </tr>\n",
       "    <tr>\n",
       "      <th>2020-04-25</th>\n",
       "      <td>68</td>\n",
       "      <td>213.87.162.56</td>\n",
       "      <td>1</td>\n",
       "      <td>2020-04-25</td>\n",
       "      <td>Москва, Россия (213.87.162.56)</td>\n",
       "      <td>['2020-04-25']</td>\n",
       "    </tr>\n",
       "  </tbody>\n",
       "</table>\n",
       "</div>"
      ],
      "text/plain": [
       "            Unnamed: 0              IP  колличество     первый  \\\n",
       "последний                                                        \n",
       "2020-04-19          72  213.87.157.179            1 2020-04-19   \n",
       "2020-04-19          71   37.230.157.22            1 2020-04-19   \n",
       "2020-04-20          70   213.87.146.70            1 2020-04-20   \n",
       "2020-04-25          69  213.87.162.221            1 2020-04-25   \n",
       "2020-04-25          68   213.87.162.56            1 2020-04-25   \n",
       "\n",
       "                                       meta          meta_d  \n",
       "последний                                                    \n",
       "2020-04-19  Москва, Россия (213.87.157.179)  ['2020-04-19']  \n",
       "2020-04-19   Москва, Россия (37.230.157.22)  ['2020-04-19']  \n",
       "2020-04-20   Москва, Россия (213.87.146.70)  ['2020-04-20']  \n",
       "2020-04-25  Москва, Россия (213.87.162.221)  ['2020-04-25']  \n",
       "2020-04-25   Москва, Россия (213.87.162.56)  ['2020-04-25']  "
      ]
     },
     "execution_count": 36,
     "metadata": {},
     "output_type": "execute_result"
    }
   ],
   "source": [
    "#dat.последний=pd.to_datetime(dat.последний)\n",
    "dat.первый=pd.to_datetime(dat.первый)\n",
    "dat.sort_values(['последний','IP']).head()"
   ]
  },
  {
   "cell_type": "code",
   "execution_count": 37,
   "metadata": {},
   "outputs": [],
   "source": [
    "dat.to_csv('анализ.csv')\n",
    "#dat.to_excel(\"анализ.xlsx\",sheet_name='Sheet_name_1') "
   ]
  },
  {
   "cell_type": "code",
   "execution_count": 38,
   "metadata": {},
   "outputs": [
    {
     "data": {
      "text/plain": [
       "последний\n",
       "Friday        5\n",
       "Monday       12\n",
       "Saturday     10\n",
       "Sunday       11\n",
       "Thursday      7\n",
       "Tuesday      20\n",
       "Wednesday     8\n",
       "Name: IP, dtype: int64"
      ]
     },
     "execution_count": 38,
     "metadata": {},
     "output_type": "execute_result"
    }
   ],
   "source": [
    "p=dat.groupby(dat.index.day_name())['IP'].count()  #число дней выборки на день недели\n",
    "p"
   ]
  },
  {
   "cell_type": "code",
   "execution_count": 39,
   "metadata": {},
   "outputs": [
    {
     "ename": "ModuleNotFoundError",
     "evalue": "No module named 'matplotlib'",
     "output_type": "error",
     "traceback": [
      "\u001b[0;31m---------------------------------------------------------------------------\u001b[0m",
      "\u001b[0;31mModuleNotFoundError\u001b[0m                       Traceback (most recent call last)",
      "\u001b[0;32m<ipython-input-39-fc31f4029f10>\u001b[0m in \u001b[0;36m<module>\u001b[0;34m\u001b[0m\n\u001b[0;32m----> 1\u001b[0;31m \u001b[0;32mimport\u001b[0m \u001b[0mmatplotlib\u001b[0m\u001b[0;34m.\u001b[0m\u001b[0mpyplot\u001b[0m \u001b[0;32mas\u001b[0m \u001b[0mplt\u001b[0m\u001b[0;34m\u001b[0m\u001b[0;34m\u001b[0m\u001b[0m\n\u001b[0m\u001b[1;32m      2\u001b[0m \u001b[0mp\u001b[0m\u001b[0;34m.\u001b[0m\u001b[0mplot\u001b[0m\u001b[0;34m(\u001b[0m\u001b[0mfigsize\u001b[0m\u001b[0;34m=\u001b[0m\u001b[0;34m(\u001b[0m\u001b[0;36m15\u001b[0m\u001b[0;34m,\u001b[0m \u001b[0;36m5\u001b[0m\u001b[0;34m)\u001b[0m\u001b[0;34m,\u001b[0m \u001b[0mlinestyle\u001b[0m\u001b[0;34m=\u001b[0m\u001b[0;34m'--'\u001b[0m\u001b[0;34m,\u001b[0m \u001b[0mmarker\u001b[0m\u001b[0;34m=\u001b[0m\u001b[0;34m'o'\u001b[0m\u001b[0;34m,\u001b[0m \u001b[0mmarkersize\u001b[0m\u001b[0;34m=\u001b[0m\u001b[0;36m10\u001b[0m\u001b[0;34m,\u001b[0m \u001b[0mgrid\u001b[0m\u001b[0;34m=\u001b[0m\u001b[0;32mTrue\u001b[0m\u001b[0;34m,\u001b[0m \u001b[0mlw\u001b[0m\u001b[0;34m=\u001b[0m\u001b[0;36m3\u001b[0m\u001b[0;34m)\u001b[0m\u001b[0;34m\u001b[0m\u001b[0;34m\u001b[0m\u001b[0m\n\u001b[1;32m      3\u001b[0m \u001b[0mplt\u001b[0m\u001b[0;34m.\u001b[0m\u001b[0mxticks\u001b[0m\u001b[0;34m(\u001b[0m\u001b[0mrotation\u001b[0m\u001b[0;34m=\u001b[0m\u001b[0;36m0\u001b[0m\u001b[0;34m,\u001b[0m\u001b[0mfontsize\u001b[0m\u001b[0;34m=\u001b[0m\u001b[0;36m10\u001b[0m\u001b[0;34m)\u001b[0m\u001b[0;34m\u001b[0m\u001b[0;34m\u001b[0m\u001b[0m\n",
      "\u001b[0;31mModuleNotFoundError\u001b[0m: No module named 'matplotlib'"
     ]
    }
   ],
   "source": [
    "import matplotlib.pyplot as plt\n",
    "p.plot(figsize=(15, 5), linestyle='--', marker='o', markersize=10, grid=True, lw=3)\n",
    "plt.xticks(rotation=0,fontsize=10)"
   ]
  },
  {
   "cell_type": "code",
   "execution_count": 29,
   "metadata": {},
   "outputs": [
    {
     "data": {
      "text/plain": [
       "последний\n",
       "2020-04-19    2\n",
       "2020-04-20    1\n",
       "2020-04-25    2\n",
       "2020-04-28    1\n",
       "2020-05-03    2\n",
       "2020-05-06    1\n",
       "2020-05-07    2\n",
       "2020-05-11    1\n",
       "2020-05-12    2\n",
       "2020-05-15    1\n",
       "2020-05-17    2\n",
       "2020-05-18    6\n",
       "2020-05-19    6\n",
       "2020-05-20    4\n",
       "2020-05-21    3\n",
       "2020-05-22    2\n",
       "2020-05-23    7\n",
       "2020-05-24    2\n",
       "2020-05-25    2\n",
       "2020-05-26    7\n",
       "2020-05-27    2\n",
       "2020-05-30    1\n",
       "2020-06-02    1\n",
       "2020-06-03    1\n",
       "2020-06-04    2\n",
       "2020-06-09    2\n",
       "2020-06-12    2\n",
       "2020-06-15    2\n",
       "2020-06-16    1\n",
       "2020-06-18    3\n",
       "Name: IP, dtype: int64"
      ]
     },
     "execution_count": 29,
     "metadata": {},
     "output_type": "execute_result"
    }
   ],
   "source": [
    "#Группировка по столбцу и подсчёт числа записей в группах\n",
    "dat.groupby(['последний'])['IP'].count() #.count(), .sum(), .median, .min(), .max()"
   ]
  },
  {
   "cell_type": "code",
   "execution_count": 30,
   "metadata": {},
   "outputs": [
    {
     "data": {
      "text/plain": [
       "(array([737537., 737546., 737553., 737560., 737567., 737577., 737584.,\n",
       "        737591.]),\n",
       " <a list of 8 Text xticklabel objects>)"
      ]
     },
     "execution_count": 30,
     "metadata": {},
     "output_type": "execute_result"
    },
    {
     "data": {
      "image/png": "[encoded data removed]",
      "text/plain": [
       "<Figure size 1080x360 with 1 Axes>"
      ]
     },
     "metadata": {
      "needs_background": "light"
     },
     "output_type": "display_data"
    }
   ],
   "source": [
    "dat.groupby(['последний'])['IP'].count().plot(figsize=(15, 5), linestyle='--', marker='o', markersize=10, grid=True, lw=3)\n",
    "plt.xticks(rotation=45,fontsize=10)"
   ]
  },
  {
   "cell_type": "code",
   "execution_count": 31,
   "metadata": {},
   "outputs": [
    {
     "data": {
      "text/plain": [
       "последний   IP            \n",
       "2020-04-19  213.87.157.179    1\n",
       "            37.230.157.22     1\n",
       "2020-04-20  213.87.146.70     1\n",
       "2020-04-25  213.87.162.221    1\n",
       "            213.87.162.56     1\n",
       "                             ..\n",
       "2020-06-15  94.25.166.144     1\n",
       "2020-06-16  91.77.149.205     1\n",
       "2020-06-18  91.76.74.254      1\n",
       "            94.232.137.20     1\n",
       "            94.29.90.41—      1\n",
       "Name: колличество, Length: 73, dtype: int64"
      ]
     },
     "execution_count": 31,
     "metadata": {},
     "output_type": "execute_result"
    }
   ],
   "source": [
    "#Группировка по столбцам и подсчёт числа \"колличество\" в группах\n",
    "dat.groupby(['последний','IP'])['колличество'].count() #.count(), .sum(), .median, .min(), .max()"
   ]
  },
  {
   "cell_type": "code",
   "execution_count": 32,
   "metadata": {},
   "outputs": [
    {
     "data": {
      "text/plain": [
       "(73, 6)"
      ]
     },
     "execution_count": 32,
     "metadata": {},
     "output_type": "execute_result"
    }
   ],
   "source": [
    "dat.index #начальный и последний номер индекса: dat.index.start = 0 / dat.index.stop  =29\n",
    "dat.columns #число строк\n",
    "dat.dtypes #типы столбцов\n",
    "dat.shape #форма таблицы\n",
    "#dat.drop_duplicates().shape - удаление дубликатов"
   ]
  },
  {
   "cell_type": "code",
   "execution_count": 33,
   "metadata": {},
   "outputs": [
    {
     "data": {
      "text/plain": [
       "1.75"
      ]
     },
     "execution_count": 33,
     "metadata": {},
     "output_type": "execute_result"
    }
   ],
   "source": [
    "#подсчёты по столбцам с условием\n",
    "dat.колличество[dat.колличество<31].mean() #.count(), .sum(), .median, .min(), .max()"
   ]
  },
  {
   "cell_type": "code",
   "execution_count": 34,
   "metadata": {},
   "outputs": [
    {
     "data": {
      "text/plain": [
       "последний\n",
       "2020-06-18    72.0\n",
       "2020-06-18    70.0\n",
       "2020-06-18    65.0\n",
       "2020-06-16    67.0\n",
       "2020-06-15    52.0\n",
       "              ... \n",
       "2020-04-25    44.0\n",
       "2020-04-25    43.0\n",
       "2020-04-20    22.0\n",
       "2020-04-19    45.0\n",
       "2020-04-19    33.0\n",
       "Name: IP, Length: 73, dtype: float64"
      ]
     },
     "execution_count": 34,
     "metadata": {},
     "output_type": "execute_result"
    }
   ],
   "source": [
    "dat.IP.rank() # индексы IP по возрастанию"
   ]
  },
  {
   "cell_type": "code",
   "execution_count": 35,
   "metadata": {},
   "outputs": [
    {
     "data": {
      "text/html": [
       "<div>\n",
       "<style scoped>\n",
       "    .dataframe tbody tr th:only-of-type {\n",
       "        vertical-align: middle;\n",
       "    }\n",
       "\n",
       "    .dataframe tbody tr th {\n",
       "        vertical-align: top;\n",
       "    }\n",
       "\n",
       "    .dataframe thead th {\n",
       "        text-align: right;\n",
       "    }\n",
       "</style>\n",
       "<table border=\"1\" class=\"dataframe\">\n",
       "  <thead>\n",
       "    <tr style=\"text-align: right;\">\n",
       "      <th></th>\n",
       "      <th>count</th>\n",
       "      <th>unique</th>\n",
       "      <th>top</th>\n",
       "      <th>freq</th>\n",
       "    </tr>\n",
       "  </thead>\n",
       "  <tbody>\n",
       "    <tr>\n",
       "      <th>IP</th>\n",
       "      <td>73</td>\n",
       "      <td>73</td>\n",
       "      <td>213.87.145.142</td>\n",
       "      <td>1</td>\n",
       "    </tr>\n",
       "    <tr>\n",
       "      <th>meta</th>\n",
       "      <td>73</td>\n",
       "      <td>73</td>\n",
       "      <td>Москва, Россия (213.87.146.87)</td>\n",
       "      <td>1</td>\n",
       "    </tr>\n",
       "    <tr>\n",
       "      <th>meta_d</th>\n",
       "      <td>73</td>\n",
       "      <td>41</td>\n",
       "      <td>['2020-05-26']</td>\n",
       "      <td>7</td>\n",
       "    </tr>\n",
       "  </tbody>\n",
       "</table>\n",
       "</div>"
      ],
      "text/plain": [
       "       count unique                             top freq\n",
       "IP        73     73                  213.87.145.142    1\n",
       "meta      73     73  Москва, Россия (213.87.146.87)    1\n",
       "meta_d    73     41                  ['2020-05-26']    7"
      ]
     },
     "execution_count": 35,
     "metadata": {},
     "output_type": "execute_result"
    }
   ],
   "source": [
    "#переворачивание таблицы и описание её\n",
    "dat.describe(include=['object']).T"
   ]
  },
  {
   "cell_type": "code",
   "execution_count": 36,
   "metadata": {},
   "outputs": [
    {
     "data": {
      "text/html": [
       "<div>\n",
       "<style scoped>\n",
       "    .dataframe tbody tr th:only-of-type {\n",
       "        vertical-align: middle;\n",
       "    }\n",
       "\n",
       "    .dataframe tbody tr th {\n",
       "        vertical-align: top;\n",
       "    }\n",
       "\n",
       "    .dataframe thead th {\n",
       "        text-align: right;\n",
       "    }\n",
       "</style>\n",
       "<table border=\"1\" class=\"dataframe\">\n",
       "  <thead>\n",
       "    <tr style=\"text-align: right;\">\n",
       "      <th></th>\n",
       "      <th>count</th>\n",
       "      <th>mean</th>\n",
       "      <th>std</th>\n",
       "      <th>min</th>\n",
       "      <th>25%</th>\n",
       "      <th>50%</th>\n",
       "      <th>75%</th>\n",
       "      <th>max</th>\n",
       "    </tr>\n",
       "  </thead>\n",
       "  <tbody>\n",
       "    <tr>\n",
       "      <th>Unnamed: 0</th>\n",
       "      <td>73.0</td>\n",
       "      <td>36.000000</td>\n",
       "      <td>21.217131</td>\n",
       "      <td>0.0</td>\n",
       "      <td>18.0</td>\n",
       "      <td>36.0</td>\n",
       "      <td>54.0</td>\n",
       "      <td>72.0</td>\n",
       "    </tr>\n",
       "    <tr>\n",
       "      <th>колличество</th>\n",
       "      <td>73.0</td>\n",
       "      <td>2.164384</td>\n",
       "      <td>4.615835</td>\n",
       "      <td>1.0</td>\n",
       "      <td>1.0</td>\n",
       "      <td>1.0</td>\n",
       "      <td>1.0</td>\n",
       "      <td>32.0</td>\n",
       "    </tr>\n",
       "  </tbody>\n",
       "</table>\n",
       "</div>"
      ],
      "text/plain": [
       "             count       mean        std  min   25%   50%   75%   max\n",
       "Unnamed: 0    73.0  36.000000  21.217131  0.0  18.0  36.0  54.0  72.0\n",
       "колличество   73.0   2.164384   4.615835  1.0   1.0   1.0   1.0  32.0"
      ]
     },
     "execution_count": 36,
     "metadata": {},
     "output_type": "execute_result"
    }
   ],
   "source": [
    "#переворачивание столбца и описание его\n",
    "dat.describe(include=['int64']).T"
   ]
  },
  {
   "cell_type": "code",
   "execution_count": 37,
   "metadata": {},
   "outputs": [
    {
     "data": {
      "image/png": "[encoded data removed]",
      "text/plain": [
       "<Figure size 2160x288 with 1 Axes>"
      ]
     },
     "metadata": {
      "needs_background": "light"
     },
     "output_type": "display_data"
    }
   ],
   "source": [
    "plt.figure(figsize=(30, 4))\n",
    "\n",
    "plt.title('N_ip', fontweight='bold',  fontsize=20)\n",
    "plt.xlabel('ip')\n",
    "plt.ylabel('частота')\n",
    "\n",
    "#plt.hist2d(s[1],s[3])#https://matplotlib.org/3.1.1/gallery/index.html\n",
    "n_bins = 20\n",
    "#plt.hist(s[0], bins=n_bins)\n",
    "plt.bar(s[1],s[0])\n",
    "plt.xticks(s[1],ip[s[1]],rotation=90,fontsize=12);#https://matplotlib.org/3.1.1/api/text_api.html#matplotlib.text.Text\n",
    "plt.grid(True)\n",
    "plt.show()\n"
   ]
  },
  {
   "cell_type": "markdown",
   "metadata": {},
   "source": [
    "Предобработка текста\n"
   ]
  },
  {
   "cell_type": "raw",
   "metadata": {},
   "source": [
    "Полезные команды\n",
    "\n",
    "Подсчёт времени выполнения кода\n",
    "from time import time\n",
    "tic = time()\n",
    "<код>\n",
    "toc = time()\n",
    "print(\"время выполнения:\", toc - tic)\n",
    "\n",
    "\n",
    "Глубокое копирование с адресом хранения переменной\n",
    "import copy\n",
    "m1=copy.deepcopy(paragraphs)\n",
    "\n",
    "\n",
    "Работа с массивами Numpy \n",
    "https://pyprog.pro/array_creation.html\n",
    "n=np.array(n, dtype='bool')#преобразование списка в логический массив numpy\n",
    "\n",
    "Работа со списками\n",
    "https://pythonchik.ru/osnovy/spiski-v-python   - хороший источник !!!\n",
    "https://pythonru.com/osnovy/spiski-python-funkcii-i-metody-python-list\n",
    "https://pythonru.com/osnovy/sintaksis-vozmozhnosti-i-podvodnye-kamni-cikla-for-v-python-3\n",
    "https://pythonworld.ru/tipy-dannyx-v-python/spiski-list-funkcii-i-metody-spiskov.html\n",
    "\n",
    "s[0][::-1] - переворачивание списка, слова или s[0].reverse() или reversed(s[0])\n",
    "\n",
    "Метод\tЗначение\n",
    "append()\tДобавляет элементы в конец списка\n",
    "clear()\tУдаляет все элементы в списке\n",
    "copy()\tВозвращает копию списка\n",
    "count()\tВозвращает число элементов с определенным значением\n",
    "extend()\tДобавляет элементы списка в конец текущего списка\n",
    "index()\tВозвращает индекс первого элемента с определенным значением\n",
    "insert()\tДобавляет элемент в определенную позицию\n",
    "pop()\tУдаляет элемент по индексу\n",
    "remove()\tУбирает элементы по значению\n",
    "reverse()\tРазворачивает порядок в списке\n",
    "sort()\tСортирует список\n",
    "\n",
    "\n",
    "#[w.partition('metk') for w in paragraphs[3]] - разделение по метке\n",
    "#' '.join(paragraphs[3])\n",
    "\n",
    "#ind_s=np.zeros(a_ranks.shape[0], dtype=int) - Нулевой массив\n",
    "#ind_s.shape[0]\n",
    "\n",
    "#(a_i<20).nonzero() - показывает индекс элемента меньше 20\n",
    "\n",
    "sorted_idx = np.argsort(a) - индекс сортировки массива\n",
    "\n",
    "#np.apply_along_axis((a.mean(), axis=0, arr=a) - цикл в NP\n",
    "\n",
    "#Создание таблицы\n",
    "GR = [\n",
    "    ['Student', 'Exam 1', 'Exam 2', 'Exam 3'],\n",
    "    ['PersonA', '100', '90', '80'],\n",
    "    ['PersonB', '88', '99', '111'],\n",
    "    ['PersonC', '45', '56', '67'],\n",
    "    ['PersonD', '59', '61', '67'],\n",
    "    ['PersonE', '73', '79', '83'],\n",
    "    ['PersonF', '89', '97', '101']\n",
    "     ]\n",
    "GL ={name: [int(i) for i in grades] for name, *grades in GR[1:]} #[{x[0]: [int(j) for j in x[1:]]} for x in GR[1:]]\n",
    "GL\n",
    "#GR = [{'A':s[0]},{'B':s[1]}]   \n",
    "pd.DataFrame(GL)\n",
    "\n",
    "Работа с индексом\n",
    "s='привет 1.2.3.4';\n",
    "i=s.index('.')\n",
    "s[i-2:i+7]\n",
    "s[::-1]\n",
    "\n",
    "Выборка из списка по строкам некоторых знаков\n",
    "[s[0][i][i:i+2:1] for i in range(s[0].size)]\n",
    "\n",
    "\n",
    "Поиск уникальных элементов (быстрее моей функции)\n",
    "s=np.unique(ip, return_index=True, return_inverse=True, return_counts=True, axis=None)\n",
    "\n",
    "#s[0]-уникальные элементы, IP, \n",
    "#s[1]-индекс первого уникального элемента, \n",
    "#s[2]-индекс всех вхождений уникальных элементов, пригодный для восстановления исходного массива.\n",
    "#s[3] - количество вхождений уникальных элементов\n",
    "\n",
    "#a=[s.count(\".\")==3 for s in m[::-1]];#логический индекс IPs обращённого списка\n",
    "#s_inv=np.unique(ip[a], return_index=True, return_inverse=True, return_counts=True, axis=None)#количество вхождений каждого уникального элемента во входном массиве\n",
    "\n",
    "\n",
    "Функция zip объединяет в кортежи элементы из последовательностей переданных в качестве аргументов.\n",
    "a = [1,2,3]\n",
    "b = \"xyz\"\n",
    "c = (None, True)\n",
    " \n",
    "res = list(zip(a, b, c))\n",
    "print (res)\n",
    " \n",
    "[(1, 'x', None), (2, 'y', True)]"
   ]
  }
 ],
 "metadata": {
  "kernelspec": {
   "display_name": "Python 3",
   "language": "python",
   "name": "python3"
  },
  "language_info": {
   "codemirror_mode": {
    "name": "ipython",
    "version": 3
   },
   "file_extension": ".py",
   "mimetype": "text/x-python",
   "name": "python",
   "nbconvert_exporter": "python",
   "pygments_lexer": "ipython3",
   "version": "3.8.2"
  }
 },
 "nbformat": 4,
 "nbformat_minor": 4
}
